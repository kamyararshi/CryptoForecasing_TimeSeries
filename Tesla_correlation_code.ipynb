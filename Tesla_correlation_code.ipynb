{
 "cells": [
  {
   "cell_type": "code",
   "execution_count": 166,
   "metadata": {},
   "outputs": [],
   "source": [
    "import pandas as pd\n",
    "import numpy as np\n",
    "import matplotlib.pyplot as plt\n",
    "from scipy.stats import pearsonr\n",
    "from statsmodels.graphics.tsaplots import plot_acf, plot_pacf\n",
    "from arch import arch_model\n",
    "\n",
    "from sklearn.preprocessing import MinMaxScaler"
   ]
  },
  {
   "cell_type": "code",
   "execution_count": 167,
   "metadata": {},
   "outputs": [],
   "source": [
    "tesla_df=pd.read_csv(\"TSLA.csv\")\n",
    "bit_df=pd.read_csv(\"BTC.csv\")"
   ]
  },
  {
   "cell_type": "code",
   "execution_count": 78,
   "metadata": {},
   "outputs": [
    {
     "data": {
      "text/html": [
       "<div>\n",
       "<style scoped>\n",
       "    .dataframe tbody tr th:only-of-type {\n",
       "        vertical-align: middle;\n",
       "    }\n",
       "\n",
       "    .dataframe tbody tr th {\n",
       "        vertical-align: top;\n",
       "    }\n",
       "\n",
       "    .dataframe thead th {\n",
       "        text-align: right;\n",
       "    }\n",
       "</style>\n",
       "<table border=\"1\" class=\"dataframe\">\n",
       "  <thead>\n",
       "    <tr style=\"text-align: right;\">\n",
       "      <th></th>\n",
       "      <th>Date</th>\n",
       "      <th>Open</th>\n",
       "      <th>High</th>\n",
       "      <th>Low</th>\n",
       "      <th>Close</th>\n",
       "      <th>Adj Close</th>\n",
       "      <th>Volume</th>\n",
       "    </tr>\n",
       "  </thead>\n",
       "  <tbody>\n",
       "    <tr>\n",
       "      <th>0</th>\n",
       "      <td>07-01-2019</td>\n",
       "      <td>4078.584961</td>\n",
       "      <td>4092.613525</td>\n",
       "      <td>4020.894043</td>\n",
       "      <td>4025.248291</td>\n",
       "      <td>4025.248291</td>\n",
       "      <td>5.228626e+09</td>\n",
       "    </tr>\n",
       "    <tr>\n",
       "      <th>1</th>\n",
       "      <td>08-01-2019</td>\n",
       "      <td>4028.472168</td>\n",
       "      <td>4109.020996</td>\n",
       "      <td>3996.955322</td>\n",
       "      <td>4030.847900</td>\n",
       "      <td>4030.847900</td>\n",
       "      <td>5.306593e+09</td>\n",
       "    </tr>\n",
       "    <tr>\n",
       "      <th>2</th>\n",
       "      <td>09-01-2019</td>\n",
       "      <td>4031.552002</td>\n",
       "      <td>4068.403564</td>\n",
       "      <td>4022.662842</td>\n",
       "      <td>4035.296387</td>\n",
       "      <td>4035.296387</td>\n",
       "      <td>5.115905e+09</td>\n",
       "    </tr>\n",
       "    <tr>\n",
       "      <th>3</th>\n",
       "      <td>10-01-2019</td>\n",
       "      <td>4034.411377</td>\n",
       "      <td>4064.066650</td>\n",
       "      <td>3659.174561</td>\n",
       "      <td>3678.924561</td>\n",
       "      <td>3678.924561</td>\n",
       "      <td>6.874144e+09</td>\n",
       "    </tr>\n",
       "    <tr>\n",
       "      <th>4</th>\n",
       "      <td>11-01-2019</td>\n",
       "      <td>3674.015381</td>\n",
       "      <td>3713.881836</td>\n",
       "      <td>3653.069824</td>\n",
       "      <td>3687.365479</td>\n",
       "      <td>3687.365479</td>\n",
       "      <td>5.538713e+09</td>\n",
       "    </tr>\n",
       "    <tr>\n",
       "      <th>5</th>\n",
       "      <td>12-01-2019</td>\n",
       "      <td>3686.973145</td>\n",
       "      <td>3698.978271</td>\n",
       "      <td>3653.810791</td>\n",
       "      <td>3661.301025</td>\n",
       "      <td>3661.301025</td>\n",
       "      <td>4.778171e+09</td>\n",
       "    </tr>\n",
       "    <tr>\n",
       "      <th>6</th>\n",
       "      <td>13-01-2019</td>\n",
       "      <td>3658.868164</td>\n",
       "      <td>3674.760010</td>\n",
       "      <td>3544.927246</td>\n",
       "      <td>3552.953125</td>\n",
       "      <td>3552.953125</td>\n",
       "      <td>4.681302e+09</td>\n",
       "    </tr>\n",
       "    <tr>\n",
       "      <th>7</th>\n",
       "      <td>14-01-2019</td>\n",
       "      <td>3557.311035</td>\n",
       "      <td>3727.836182</td>\n",
       "      <td>3552.285156</td>\n",
       "      <td>3706.052246</td>\n",
       "      <td>3706.052246</td>\n",
       "      <td>5.651384e+09</td>\n",
       "    </tr>\n",
       "    <tr>\n",
       "      <th>8</th>\n",
       "      <td>15-01-2019</td>\n",
       "      <td>3704.216309</td>\n",
       "      <td>3720.153320</td>\n",
       "      <td>3619.949219</td>\n",
       "      <td>3630.675293</td>\n",
       "      <td>3630.675293</td>\n",
       "      <td>5.537192e+09</td>\n",
       "    </tr>\n",
       "    <tr>\n",
       "      <th>9</th>\n",
       "      <td>16-01-2019</td>\n",
       "      <td>3631.509766</td>\n",
       "      <td>3685.777100</td>\n",
       "      <td>3624.673340</td>\n",
       "      <td>3655.006836</td>\n",
       "      <td>3655.006836</td>\n",
       "      <td>5.394457e+09</td>\n",
       "    </tr>\n",
       "  </tbody>\n",
       "</table>\n",
       "</div>"
      ],
      "text/plain": [
       "         Date         Open         High          Low        Close  \\\n",
       "0  07-01-2019  4078.584961  4092.613525  4020.894043  4025.248291   \n",
       "1  08-01-2019  4028.472168  4109.020996  3996.955322  4030.847900   \n",
       "2  09-01-2019  4031.552002  4068.403564  4022.662842  4035.296387   \n",
       "3  10-01-2019  4034.411377  4064.066650  3659.174561  3678.924561   \n",
       "4  11-01-2019  3674.015381  3713.881836  3653.069824  3687.365479   \n",
       "5  12-01-2019  3686.973145  3698.978271  3653.810791  3661.301025   \n",
       "6  13-01-2019  3658.868164  3674.760010  3544.927246  3552.953125   \n",
       "7  14-01-2019  3557.311035  3727.836182  3552.285156  3706.052246   \n",
       "8  15-01-2019  3704.216309  3720.153320  3619.949219  3630.675293   \n",
       "9  16-01-2019  3631.509766  3685.777100  3624.673340  3655.006836   \n",
       "\n",
       "     Adj Close        Volume  \n",
       "0  4025.248291  5.228626e+09  \n",
       "1  4030.847900  5.306593e+09  \n",
       "2  4035.296387  5.115905e+09  \n",
       "3  3678.924561  6.874144e+09  \n",
       "4  3687.365479  5.538713e+09  \n",
       "5  3661.301025  4.778171e+09  \n",
       "6  3552.953125  4.681302e+09  \n",
       "7  3706.052246  5.651384e+09  \n",
       "8  3630.675293  5.537192e+09  \n",
       "9  3655.006836  5.394457e+09  "
      ]
     },
     "execution_count": 78,
     "metadata": {},
     "output_type": "execute_result"
    }
   ],
   "source": [
    "bit_df.head(10)"
   ]
  },
  {
   "cell_type": "code",
   "execution_count": 203,
   "metadata": {},
   "outputs": [],
   "source": [
    "merged=pd.merge(bit_df,tesla_df, how=\"left\", on=['Date'])"
   ]
  },
  {
   "cell_type": "code",
   "execution_count": 204,
   "metadata": {},
   "outputs": [],
   "source": [
    "new_df=merged[[\"Date\",\"Close_x\",\"Close_y\"]]"
   ]
  },
  {
   "cell_type": "code",
   "execution_count": 213,
   "metadata": {},
   "outputs": [],
   "source": [
    "#new_df.tail(60)"
   ]
  },
  {
   "cell_type": "code",
   "execution_count": 205,
   "metadata": {},
   "outputs": [],
   "source": [
    "new_df=new_df.rename(columns={\"Close_y\":\"tesla_closed\",\"Close_x\":\"bitcoin_closed\"})"
   ]
  },
  {
   "cell_type": "code",
   "execution_count": 206,
   "metadata": {},
   "outputs": [],
   "source": [
    "new_df[\"bitcoin_closed\"]=new_df[\"bitcoin_closed\"].fillna(method='ffill')\n",
    "new_df[\"tesla_closed\"]=new_df[\"tesla_closed\"].fillna(method='ffill')"
   ]
  },
  {
   "cell_type": "code",
   "execution_count": 207,
   "metadata": {},
   "outputs": [
    {
     "data": {
      "text/plain": [
       "0"
      ]
     },
     "execution_count": 207,
     "metadata": {},
     "output_type": "execute_result"
    }
   ],
   "source": [
    "count_nan = new_df[\"tesla_closed\"].isnull().sum()\n",
    "count_nan"
   ]
  },
  {
   "cell_type": "code",
   "execution_count": 107,
   "metadata": {},
   "outputs": [],
   "source": [
    "#new_df=new_df.drop(columns=[\"Date\"])"
   ]
  },
  {
   "cell_type": "markdown",
   "metadata": {},
   "source": [
    "## Strong Correlation"
   ]
  },
  {
   "cell_type": "code",
   "execution_count": 174,
   "metadata": {},
   "outputs": [
    {
     "data": {
      "text/plain": [
       "(0.9036097186596, 0.0)"
      ]
     },
     "execution_count": 174,
     "metadata": {},
     "output_type": "execute_result"
    }
   ],
   "source": [
    "pearsonr(new_df[\"bitcoin_closed\"], temp)"
   ]
  },
  {
   "cell_type": "code",
   "execution_count": 175,
   "metadata": {},
   "outputs": [
    {
     "data": {
      "text/html": [
       "<div>\n",
       "<style scoped>\n",
       "    .dataframe tbody tr th:only-of-type {\n",
       "        vertical-align: middle;\n",
       "    }\n",
       "\n",
       "    .dataframe tbody tr th {\n",
       "        vertical-align: top;\n",
       "    }\n",
       "\n",
       "    .dataframe thead th {\n",
       "        text-align: right;\n",
       "    }\n",
       "</style>\n",
       "<table border=\"1\" class=\"dataframe\">\n",
       "  <thead>\n",
       "    <tr style=\"text-align: right;\">\n",
       "      <th></th>\n",
       "      <th>Date</th>\n",
       "      <th>bitcoin_closed</th>\n",
       "      <th>tesla_closed</th>\n",
       "    </tr>\n",
       "  </thead>\n",
       "  <tbody>\n",
       "    <tr>\n",
       "      <th>0</th>\n",
       "      <td>07-01-2019</td>\n",
       "      <td>4025.248291</td>\n",
       "      <td>66.991997</td>\n",
       "    </tr>\n",
       "    <tr>\n",
       "      <th>1</th>\n",
       "      <td>08-01-2019</td>\n",
       "      <td>4030.847900</td>\n",
       "      <td>67.070000</td>\n",
       "    </tr>\n",
       "    <tr>\n",
       "      <th>2</th>\n",
       "      <td>09-01-2019</td>\n",
       "      <td>4035.296387</td>\n",
       "      <td>67.706001</td>\n",
       "    </tr>\n",
       "    <tr>\n",
       "      <th>3</th>\n",
       "      <td>10-01-2019</td>\n",
       "      <td>3678.924561</td>\n",
       "      <td>68.994003</td>\n",
       "    </tr>\n",
       "    <tr>\n",
       "      <th>4</th>\n",
       "      <td>11-01-2019</td>\n",
       "      <td>3687.365479</td>\n",
       "      <td>69.452003</td>\n",
       "    </tr>\n",
       "  </tbody>\n",
       "</table>\n",
       "</div>"
      ],
      "text/plain": [
       "         Date  bitcoin_closed  tesla_closed\n",
       "0  07-01-2019     4025.248291     66.991997\n",
       "1  08-01-2019     4030.847900     67.070000\n",
       "2  09-01-2019     4035.296387     67.706001\n",
       "3  10-01-2019     3678.924561     68.994003\n",
       "4  11-01-2019     3687.365479     69.452003"
      ]
     },
     "execution_count": 175,
     "metadata": {},
     "output_type": "execute_result"
    }
   ],
   "source": [
    "new_df.head()"
   ]
  },
  {
   "cell_type": "code",
   "execution_count": 108,
   "metadata": {},
   "outputs": [
    {
     "data": {
      "text/plain": [
       "array([[0.00975226, 0.02612644],\n",
       "       [0.00983952, 0.02619176],\n",
       "       [0.00990885, 0.02672437],\n",
       "       ...,\n",
       "       [0.70904045, 0.78735731],\n",
       "       [0.68985161, 0.74626415],\n",
       "       [0.66775735, 0.7509957 ]])"
      ]
     },
     "execution_count": 108,
     "metadata": {},
     "output_type": "execute_result"
    }
   ],
   "source": [
    "scaler = MinMaxScaler()\n",
    "training_data = scaler.fit_transform(new_df)\n",
    "training_data"
   ]
  },
  {
   "cell_type": "code",
   "execution_count": 43,
   "metadata": {},
   "outputs": [
    {
     "data": {
      "text/plain": [
       "array([0.02612644, 0.00975226])"
      ]
     },
     "execution_count": 43,
     "metadata": {},
     "output_type": "execute_result"
    }
   ],
   "source": [
    "training_data[0]"
   ]
  },
  {
   "cell_type": "code",
   "execution_count": 109,
   "metadata": {},
   "outputs": [
    {
     "data": {
      "text/plain": [
       "(0.9036097186596002, 0.0)"
      ]
     },
     "execution_count": 109,
     "metadata": {},
     "output_type": "execute_result"
    }
   ],
   "source": [
    "pearsonr(training_data[:,0],training_data[:,1])"
   ]
  },
  {
   "cell_type": "code",
   "execution_count": 176,
   "metadata": {
    "scrolled": true
   },
   "outputs": [
    {
     "data": {
      "text/plain": [
       "<matplotlib.legend.Legend at 0x24eb4ca5748>"
      ]
     },
     "execution_count": 176,
     "metadata": {},
     "output_type": "execute_result"
    },
    {
     "data": {
      "image/png": "[encoded data removed]",
      "text/plain": [
       "<Figure size 1080x360 with 1 Axes>"
      ]
     },
     "metadata": {
      "needs_background": "light"
     },
     "output_type": "display_data"
    }
   ],
   "source": [
    "plt.figure(figsize=(15,5))\n",
    "plt.plot(training_data[:,0],label='bitcoin_closed')\n",
    "plt.plot(training_data[:,1],label=\"tesla_closed\")\n",
    "plt.legend()"
   ]
  },
  {
   "cell_type": "code",
   "execution_count": 163,
   "metadata": {},
   "outputs": [
    {
     "data": {
      "text/html": [
       "<div>\n",
       "<style scoped>\n",
       "    .dataframe tbody tr th:only-of-type {\n",
       "        vertical-align: middle;\n",
       "    }\n",
       "\n",
       "    .dataframe tbody tr th {\n",
       "        vertical-align: top;\n",
       "    }\n",
       "\n",
       "    .dataframe thead th {\n",
       "        text-align: right;\n",
       "    }\n",
       "</style>\n",
       "<table border=\"1\" class=\"dataframe\">\n",
       "  <thead>\n",
       "    <tr style=\"text-align: right;\">\n",
       "      <th></th>\n",
       "      <th>Date</th>\n",
       "      <th>bitcoin_closed</th>\n",
       "      <th>tesla_closed</th>\n",
       "      <th>new_date</th>\n",
       "    </tr>\n",
       "  </thead>\n",
       "  <tbody>\n",
       "    <tr>\n",
       "      <th>0</th>\n",
       "      <td>07-01-2019</td>\n",
       "      <td>4025.248291</td>\n",
       "      <td>66.991997</td>\n",
       "      <td>2019-07-01</td>\n",
       "    </tr>\n",
       "    <tr>\n",
       "      <th>1</th>\n",
       "      <td>08-01-2019</td>\n",
       "      <td>4030.847900</td>\n",
       "      <td>67.070000</td>\n",
       "      <td>2019-08-01</td>\n",
       "    </tr>\n",
       "    <tr>\n",
       "      <th>2</th>\n",
       "      <td>09-01-2019</td>\n",
       "      <td>4035.296387</td>\n",
       "      <td>67.706001</td>\n",
       "      <td>2019-09-01</td>\n",
       "    </tr>\n",
       "    <tr>\n",
       "      <th>3</th>\n",
       "      <td>10-01-2019</td>\n",
       "      <td>3678.924561</td>\n",
       "      <td>68.994003</td>\n",
       "      <td>2019-10-01</td>\n",
       "    </tr>\n",
       "    <tr>\n",
       "      <th>4</th>\n",
       "      <td>11-01-2019</td>\n",
       "      <td>3687.365479</td>\n",
       "      <td>69.452003</td>\n",
       "      <td>2019-11-01</td>\n",
       "    </tr>\n",
       "  </tbody>\n",
       "</table>\n",
       "</div>"
      ],
      "text/plain": [
       "         Date  bitcoin_closed  tesla_closed   new_date\n",
       "0  07-01-2019     4025.248291     66.991997 2019-07-01\n",
       "1  08-01-2019     4030.847900     67.070000 2019-08-01\n",
       "2  09-01-2019     4035.296387     67.706001 2019-09-01\n",
       "3  10-01-2019     3678.924561     68.994003 2019-10-01\n",
       "4  11-01-2019     3687.365479     69.452003 2019-11-01"
      ]
     },
     "execution_count": 163,
     "metadata": {},
     "output_type": "execute_result"
    }
   ],
   "source": [
    "new_df.head()"
   ]
  },
  {
   "cell_type": "code",
   "execution_count": 209,
   "metadata": {},
   "outputs": [
    {
     "data": {
      "text/html": [
       "<div>\n",
       "<style scoped>\n",
       "    .dataframe tbody tr th:only-of-type {\n",
       "        vertical-align: middle;\n",
       "    }\n",
       "\n",
       "    .dataframe tbody tr th {\n",
       "        vertical-align: top;\n",
       "    }\n",
       "\n",
       "    .dataframe thead th {\n",
       "        text-align: right;\n",
       "    }\n",
       "</style>\n",
       "<table border=\"1\" class=\"dataframe\">\n",
       "  <thead>\n",
       "    <tr style=\"text-align: right;\">\n",
       "      <th></th>\n",
       "      <th>Date</th>\n",
       "      <th>bitcoin_closed</th>\n",
       "      <th>tesla_closed</th>\n",
       "    </tr>\n",
       "  </thead>\n",
       "  <tbody>\n",
       "    <tr>\n",
       "      <th>0</th>\n",
       "      <td>2019-01-07</td>\n",
       "      <td>4025.248291</td>\n",
       "      <td>66.991997</td>\n",
       "    </tr>\n",
       "    <tr>\n",
       "      <th>1</th>\n",
       "      <td>2019-01-08</td>\n",
       "      <td>4030.847900</td>\n",
       "      <td>67.070000</td>\n",
       "    </tr>\n",
       "    <tr>\n",
       "      <th>2</th>\n",
       "      <td>2019-01-09</td>\n",
       "      <td>4035.296387</td>\n",
       "      <td>67.706001</td>\n",
       "    </tr>\n",
       "    <tr>\n",
       "      <th>3</th>\n",
       "      <td>2019-01-10</td>\n",
       "      <td>3678.924561</td>\n",
       "      <td>68.994003</td>\n",
       "    </tr>\n",
       "    <tr>\n",
       "      <th>4</th>\n",
       "      <td>2019-01-11</td>\n",
       "      <td>3687.365479</td>\n",
       "      <td>69.452003</td>\n",
       "    </tr>\n",
       "  </tbody>\n",
       "</table>\n",
       "</div>"
      ],
      "text/plain": [
       "        Date  bitcoin_closed  tesla_closed\n",
       "0 2019-01-07     4025.248291     66.991997\n",
       "1 2019-01-08     4030.847900     67.070000\n",
       "2 2019-01-09     4035.296387     67.706001\n",
       "3 2019-01-10     3678.924561     68.994003\n",
       "4 2019-01-11     3687.365479     69.452003"
      ]
     },
     "execution_count": 209,
     "metadata": {},
     "output_type": "execute_result"
    }
   ],
   "source": [
    "new_df['Date'] = pd.to_datetime(new_df.Date, format=\"%d-%m-%Y\")\n",
    "new_df.head()"
   ]
  },
  {
   "cell_type": "code",
   "execution_count": 210,
   "metadata": {},
   "outputs": [
    {
     "data": {
      "text/plain": [
       "1016"
      ]
     },
     "execution_count": 210,
     "metadata": {},
     "output_type": "execute_result"
    }
   ],
   "source": [
    "data_training = new_df[new_df['Date']< '2021-10-19'].copy()\n",
    "len(data_training)"
   ]
  },
  {
   "cell_type": "code",
   "execution_count": 212,
   "metadata": {},
   "outputs": [
    {
     "data": {
      "text/plain": [
       "59"
      ]
     },
     "execution_count": 212,
     "metadata": {},
     "output_type": "execute_result"
    }
   ],
   "source": [
    "data_test = new_df[new_df['Date']> '2021-10-19']\n",
    "len(data_test)"
   ]
  },
  {
   "cell_type": "code",
   "execution_count": 214,
   "metadata": {},
   "outputs": [
    {
     "data": {
      "text/html": [
       "<div>\n",
       "<style scoped>\n",
       "    .dataframe tbody tr th:only-of-type {\n",
       "        vertical-align: middle;\n",
       "    }\n",
       "\n",
       "    .dataframe tbody tr th {\n",
       "        vertical-align: top;\n",
       "    }\n",
       "\n",
       "    .dataframe thead th {\n",
       "        text-align: right;\n",
       "    }\n",
       "</style>\n",
       "<table border=\"1\" class=\"dataframe\">\n",
       "  <thead>\n",
       "    <tr style=\"text-align: right;\">\n",
       "      <th></th>\n",
       "      <th>bitcoin_closed</th>\n",
       "      <th>tesla_closed</th>\n",
       "    </tr>\n",
       "  </thead>\n",
       "  <tbody>\n",
       "    <tr>\n",
       "      <th>0</th>\n",
       "      <td>4025.248291</td>\n",
       "      <td>66.991997</td>\n",
       "    </tr>\n",
       "    <tr>\n",
       "      <th>1</th>\n",
       "      <td>4030.847900</td>\n",
       "      <td>67.070000</td>\n",
       "    </tr>\n",
       "    <tr>\n",
       "      <th>2</th>\n",
       "      <td>4035.296387</td>\n",
       "      <td>67.706001</td>\n",
       "    </tr>\n",
       "    <tr>\n",
       "      <th>3</th>\n",
       "      <td>3678.924561</td>\n",
       "      <td>68.994003</td>\n",
       "    </tr>\n",
       "    <tr>\n",
       "      <th>4</th>\n",
       "      <td>3687.365479</td>\n",
       "      <td>69.452003</td>\n",
       "    </tr>\n",
       "  </tbody>\n",
       "</table>\n",
       "</div>"
      ],
      "text/plain": [
       "   bitcoin_closed  tesla_closed\n",
       "0     4025.248291     66.991997\n",
       "1     4030.847900     67.070000\n",
       "2     4035.296387     67.706001\n",
       "3     3678.924561     68.994003\n",
       "4     3687.365479     69.452003"
      ]
     },
     "execution_count": 214,
     "metadata": {},
     "output_type": "execute_result"
    }
   ],
   "source": [
    "training_data = data_training.drop([\"Date\"], axis = 1)\n",
    "training_data.head()"
   ]
  },
  {
   "cell_type": "code",
   "execution_count": 215,
   "metadata": {},
   "outputs": [
    {
     "data": {
      "text/plain": [
       "array([[0.01041157, 0.03682066],\n",
       "       [0.01050473, 0.03691272],\n",
       "       [0.01057874, 0.03766334],\n",
       "       ...,\n",
       "       [0.95655401, 0.95272019],\n",
       "       [0.96755889, 0.95272019],\n",
       "       [0.97541962, 0.98468063]])"
      ]
     },
     "execution_count": 215,
     "metadata": {},
     "output_type": "execute_result"
    }
   ],
   "source": [
    "scaler = MinMaxScaler()\n",
    "training_data = scaler.fit_transform(training_data)\n",
    "training_data"
   ]
  },
  {
   "cell_type": "code",
   "execution_count": 216,
   "metadata": {},
   "outputs": [],
   "source": [
    "X_train = [] \n",
    "Y_train = []\n",
    "for i in range(60, training_data.shape[0]):\n",
    "    \n",
    "    X_train.append(training_data[i-60:i])\n",
    "    Y_train.append(training_data[i])\n",
    "X_train, Y_train = np.array(X_train), np.array(Y_train)"
   ]
  },
  {
   "cell_type": "code",
   "execution_count": 217,
   "metadata": {},
   "outputs": [
    {
     "data": {
      "text/plain": [
       "(956, 60, 2)"
      ]
     },
     "execution_count": 217,
     "metadata": {},
     "output_type": "execute_result"
    }
   ],
   "source": [
    "X_train.shape"
   ]
  },
  {
   "cell_type": "code",
   "execution_count": 218,
   "metadata": {},
   "outputs": [
    {
     "data": {
      "text/plain": [
       "(956, 2)"
      ]
     },
     "execution_count": 218,
     "metadata": {},
     "output_type": "execute_result"
    }
   ],
   "source": [
    "Y_train.shape"
   ]
  },
  {
   "cell_type": "code",
   "execution_count": 219,
   "metadata": {},
   "outputs": [],
   "source": [
    "from tensorflow.keras import Sequential\n",
    "from tensorflow.keras.layers import Dense, LSTM, Dropout"
   ]
  }
 ],
 "metadata": {
  "kernelspec": {
   "display_name": "Python 3",
   "language": "python",
   "name": "python3"
  },
  "language_info": {
   "codemirror_mode": {
    "name": "ipython",
    "version": 3
   },
   "file_extension": ".py",
   "mimetype": "text/x-python",
   "name": "python",
   "nbconvert_exporter": "python",
   "pygments_lexer": "ipython3",
   "version": "3.7.7"
  }
 },
 "nbformat": 4,
 "nbformat_minor": 4
}
