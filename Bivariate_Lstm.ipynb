{
 "cells": [
  {
   "cell_type": "code",
   "execution_count": 1,
   "id": "b5f5de68",
   "metadata": {},
   "outputs": [],
   "source": [
    "import numpy as np\n",
    "import matplotlib.pyplot as plt\n",
    "import pandas as pd\n",
    "from sklearn.preprocessing import MinMaxScaler"
   ]
  },
  {
   "cell_type": "code",
   "execution_count": 271,
   "id": "45f8324d",
   "metadata": {},
   "outputs": [
    {
     "data": {
      "text/html": [
       "<div>\n",
       "<style scoped>\n",
       "    .dataframe tbody tr th:only-of-type {\n",
       "        vertical-align: middle;\n",
       "    }\n",
       "\n",
       "    .dataframe tbody tr th {\n",
       "        vertical-align: top;\n",
       "    }\n",
       "\n",
       "    .dataframe thead th {\n",
       "        text-align: right;\n",
       "    }\n",
       "</style>\n",
       "<table border=\"1\" class=\"dataframe\">\n",
       "  <thead>\n",
       "    <tr style=\"text-align: right;\">\n",
       "      <th></th>\n",
       "      <th>time</th>\n",
       "      <th>open</th>\n",
       "      <th>high</th>\n",
       "      <th>low</th>\n",
       "      <th>close</th>\n",
       "    </tr>\n",
       "  </thead>\n",
       "  <tbody>\n",
       "    <tr>\n",
       "      <th>1556</th>\n",
       "      <td>2021-11-20T00:00:00Z</td>\n",
       "      <td>58057.10</td>\n",
       "      <td>59845.00</td>\n",
       "      <td>57353.00</td>\n",
       "      <td>59707.51</td>\n",
       "    </tr>\n",
       "    <tr>\n",
       "      <th>1557</th>\n",
       "      <td>2021-11-21T00:00:00Z</td>\n",
       "      <td>59707.52</td>\n",
       "      <td>60029.76</td>\n",
       "      <td>58486.65</td>\n",
       "      <td>58622.02</td>\n",
       "    </tr>\n",
       "    <tr>\n",
       "      <th>1558</th>\n",
       "      <td>2021-11-22T00:00:00Z</td>\n",
       "      <td>58617.70</td>\n",
       "      <td>59444.00</td>\n",
       "      <td>55610.00</td>\n",
       "      <td>56247.18</td>\n",
       "    </tr>\n",
       "    <tr>\n",
       "      <th>1559</th>\n",
       "      <td>2021-11-23T00:00:00Z</td>\n",
       "      <td>56243.83</td>\n",
       "      <td>58009.99</td>\n",
       "      <td>55317.00</td>\n",
       "      <td>57541.27</td>\n",
       "    </tr>\n",
       "    <tr>\n",
       "      <th>1560</th>\n",
       "      <td>2021-11-24T00:00:00Z</td>\n",
       "      <td>57541.26</td>\n",
       "      <td>57735.00</td>\n",
       "      <td>55837.00</td>\n",
       "      <td>56750.11</td>\n",
       "    </tr>\n",
       "  </tbody>\n",
       "</table>\n",
       "</div>"
      ],
      "text/plain": [
       "                      time      open      high       low     close\n",
       "1556  2021-11-20T00:00:00Z  58057.10  59845.00  57353.00  59707.51\n",
       "1557  2021-11-21T00:00:00Z  59707.52  60029.76  58486.65  58622.02\n",
       "1558  2021-11-22T00:00:00Z  58617.70  59444.00  55610.00  56247.18\n",
       "1559  2021-11-23T00:00:00Z  56243.83  58009.99  55317.00  57541.27\n",
       "1560  2021-11-24T00:00:00Z  57541.26  57735.00  55837.00  56750.11"
      ]
     },
     "execution_count": 271,
     "metadata": {},
     "output_type": "execute_result"
    }
   ],
   "source": [
    "data = pd.read_csv('BINANCE_BTCUSDT, 1D.csv', date_parser = True)\n",
    "data.tail()"
   ]
  },
  {
   "cell_type": "code",
   "execution_count": 296,
   "id": "18796b53",
   "metadata": {},
   "outputs": [
    {
     "data": {
      "text/html": [
       "<div>\n",
       "<style scoped>\n",
       "    .dataframe tbody tr th:only-of-type {\n",
       "        vertical-align: middle;\n",
       "    }\n",
       "\n",
       "    .dataframe tbody tr th {\n",
       "        vertical-align: top;\n",
       "    }\n",
       "\n",
       "    .dataframe thead th {\n",
       "        text-align: right;\n",
       "    }\n",
       "</style>\n",
       "<table border=\"1\" class=\"dataframe\">\n",
       "  <thead>\n",
       "    <tr style=\"text-align: right;\">\n",
       "      <th></th>\n",
       "      <th>time</th>\n",
       "      <th>open</th>\n",
       "      <th>high</th>\n",
       "      <th>low</th>\n",
       "      <th>close</th>\n",
       "    </tr>\n",
       "  </thead>\n",
       "  <tbody>\n",
       "    <tr>\n",
       "      <th>0</th>\n",
       "      <td>2017-08-17T00:00:00Z</td>\n",
       "      <td>4261.48</td>\n",
       "      <td>4485.39</td>\n",
       "      <td>4200.74</td>\n",
       "      <td>4285.08</td>\n",
       "    </tr>\n",
       "    <tr>\n",
       "      <th>1</th>\n",
       "      <td>2017-08-18T00:00:00Z</td>\n",
       "      <td>4285.08</td>\n",
       "      <td>4371.52</td>\n",
       "      <td>3938.77</td>\n",
       "      <td>4108.37</td>\n",
       "    </tr>\n",
       "    <tr>\n",
       "      <th>2</th>\n",
       "      <td>2017-08-19T00:00:00Z</td>\n",
       "      <td>4108.37</td>\n",
       "      <td>4184.69</td>\n",
       "      <td>3850.00</td>\n",
       "      <td>4139.98</td>\n",
       "    </tr>\n",
       "    <tr>\n",
       "      <th>3</th>\n",
       "      <td>2017-08-20T00:00:00Z</td>\n",
       "      <td>4120.98</td>\n",
       "      <td>4211.08</td>\n",
       "      <td>4032.62</td>\n",
       "      <td>4086.29</td>\n",
       "    </tr>\n",
       "    <tr>\n",
       "      <th>4</th>\n",
       "      <td>2017-08-21T00:00:00Z</td>\n",
       "      <td>4069.13</td>\n",
       "      <td>4119.62</td>\n",
       "      <td>3911.79</td>\n",
       "      <td>4016.00</td>\n",
       "    </tr>\n",
       "    <tr>\n",
       "      <th>...</th>\n",
       "      <td>...</td>\n",
       "      <td>...</td>\n",
       "      <td>...</td>\n",
       "      <td>...</td>\n",
       "      <td>...</td>\n",
       "    </tr>\n",
       "    <tr>\n",
       "      <th>1440</th>\n",
       "      <td>2021-07-27T00:00:00Z</td>\n",
       "      <td>37241.33</td>\n",
       "      <td>39542.61</td>\n",
       "      <td>36383.00</td>\n",
       "      <td>39457.87</td>\n",
       "    </tr>\n",
       "    <tr>\n",
       "      <th>1441</th>\n",
       "      <td>2021-07-28T00:00:00Z</td>\n",
       "      <td>39456.61</td>\n",
       "      <td>40900.00</td>\n",
       "      <td>38772.00</td>\n",
       "      <td>40019.56</td>\n",
       "    </tr>\n",
       "    <tr>\n",
       "      <th>1442</th>\n",
       "      <td>2021-07-29T00:00:00Z</td>\n",
       "      <td>40019.57</td>\n",
       "      <td>40640.00</td>\n",
       "      <td>39200.00</td>\n",
       "      <td>40016.48</td>\n",
       "    </tr>\n",
       "    <tr>\n",
       "      <th>1443</th>\n",
       "      <td>2021-07-30T00:00:00Z</td>\n",
       "      <td>40018.49</td>\n",
       "      <td>42316.71</td>\n",
       "      <td>38313.23</td>\n",
       "      <td>42206.37</td>\n",
       "    </tr>\n",
       "    <tr>\n",
       "      <th>1444</th>\n",
       "      <td>2021-07-31T00:00:00Z</td>\n",
       "      <td>42206.36</td>\n",
       "      <td>42448.00</td>\n",
       "      <td>41000.15</td>\n",
       "      <td>41461.83</td>\n",
       "    </tr>\n",
       "  </tbody>\n",
       "</table>\n",
       "<p>1445 rows × 5 columns</p>\n",
       "</div>"
      ],
      "text/plain": [
       "                      time      open      high       low     close\n",
       "0     2017-08-17T00:00:00Z   4261.48   4485.39   4200.74   4285.08\n",
       "1     2017-08-18T00:00:00Z   4285.08   4371.52   3938.77   4108.37\n",
       "2     2017-08-19T00:00:00Z   4108.37   4184.69   3850.00   4139.98\n",
       "3     2017-08-20T00:00:00Z   4120.98   4211.08   4032.62   4086.29\n",
       "4     2017-08-21T00:00:00Z   4069.13   4119.62   3911.79   4016.00\n",
       "...                    ...       ...       ...       ...       ...\n",
       "1440  2021-07-27T00:00:00Z  37241.33  39542.61  36383.00  39457.87\n",
       "1441  2021-07-28T00:00:00Z  39456.61  40900.00  38772.00  40019.56\n",
       "1442  2021-07-29T00:00:00Z  40019.57  40640.00  39200.00  40016.48\n",
       "1443  2021-07-30T00:00:00Z  40018.49  42316.71  38313.23  42206.37\n",
       "1444  2021-07-31T00:00:00Z  42206.36  42448.00  41000.15  41461.83\n",
       "\n",
       "[1445 rows x 5 columns]"
      ]
     },
     "execution_count": 296,
     "metadata": {},
     "output_type": "execute_result"
    }
   ],
   "source": [
    "data_training = data[data['time']< '2021-08-01'].copy()\n",
    "data_training"
   ]
  },
  {
   "cell_type": "code",
   "execution_count": 297,
   "id": "ddf3b2a1",
   "metadata": {},
   "outputs": [
    {
     "data": {
      "text/html": [
       "<div>\n",
       "<style scoped>\n",
       "    .dataframe tbody tr th:only-of-type {\n",
       "        vertical-align: middle;\n",
       "    }\n",
       "\n",
       "    .dataframe tbody tr th {\n",
       "        vertical-align: top;\n",
       "    }\n",
       "\n",
       "    .dataframe thead th {\n",
       "        text-align: right;\n",
       "    }\n",
       "</style>\n",
       "<table border=\"1\" class=\"dataframe\">\n",
       "  <thead>\n",
       "    <tr style=\"text-align: right;\">\n",
       "      <th></th>\n",
       "      <th>time</th>\n",
       "      <th>open</th>\n",
       "      <th>high</th>\n",
       "      <th>low</th>\n",
       "      <th>close</th>\n",
       "    </tr>\n",
       "  </thead>\n",
       "  <tbody>\n",
       "    <tr>\n",
       "      <th>1445</th>\n",
       "      <td>2021-08-01T00:00:00Z</td>\n",
       "      <td>41461.84</td>\n",
       "      <td>42599.00</td>\n",
       "      <td>39422.01</td>\n",
       "      <td>39845.44</td>\n",
       "    </tr>\n",
       "    <tr>\n",
       "      <th>1446</th>\n",
       "      <td>2021-08-02T00:00:00Z</td>\n",
       "      <td>39850.27</td>\n",
       "      <td>40480.01</td>\n",
       "      <td>38690.00</td>\n",
       "      <td>39147.82</td>\n",
       "    </tr>\n",
       "    <tr>\n",
       "      <th>1447</th>\n",
       "      <td>2021-08-03T00:00:00Z</td>\n",
       "      <td>39146.86</td>\n",
       "      <td>39780.00</td>\n",
       "      <td>37642.03</td>\n",
       "      <td>38207.05</td>\n",
       "    </tr>\n",
       "    <tr>\n",
       "      <th>1448</th>\n",
       "      <td>2021-08-04T00:00:00Z</td>\n",
       "      <td>38207.04</td>\n",
       "      <td>39969.66</td>\n",
       "      <td>37508.56</td>\n",
       "      <td>39723.18</td>\n",
       "    </tr>\n",
       "    <tr>\n",
       "      <th>1449</th>\n",
       "      <td>2021-08-05T00:00:00Z</td>\n",
       "      <td>39723.17</td>\n",
       "      <td>41350.00</td>\n",
       "      <td>37332.70</td>\n",
       "      <td>40862.46</td>\n",
       "    </tr>\n",
       "    <tr>\n",
       "      <th>...</th>\n",
       "      <td>...</td>\n",
       "      <td>...</td>\n",
       "      <td>...</td>\n",
       "      <td>...</td>\n",
       "      <td>...</td>\n",
       "    </tr>\n",
       "    <tr>\n",
       "      <th>1556</th>\n",
       "      <td>2021-11-20T00:00:00Z</td>\n",
       "      <td>58057.10</td>\n",
       "      <td>59845.00</td>\n",
       "      <td>57353.00</td>\n",
       "      <td>59707.51</td>\n",
       "    </tr>\n",
       "    <tr>\n",
       "      <th>1557</th>\n",
       "      <td>2021-11-21T00:00:00Z</td>\n",
       "      <td>59707.52</td>\n",
       "      <td>60029.76</td>\n",
       "      <td>58486.65</td>\n",
       "      <td>58622.02</td>\n",
       "    </tr>\n",
       "    <tr>\n",
       "      <th>1558</th>\n",
       "      <td>2021-11-22T00:00:00Z</td>\n",
       "      <td>58617.70</td>\n",
       "      <td>59444.00</td>\n",
       "      <td>55610.00</td>\n",
       "      <td>56247.18</td>\n",
       "    </tr>\n",
       "    <tr>\n",
       "      <th>1559</th>\n",
       "      <td>2021-11-23T00:00:00Z</td>\n",
       "      <td>56243.83</td>\n",
       "      <td>58009.99</td>\n",
       "      <td>55317.00</td>\n",
       "      <td>57541.27</td>\n",
       "    </tr>\n",
       "    <tr>\n",
       "      <th>1560</th>\n",
       "      <td>2021-11-24T00:00:00Z</td>\n",
       "      <td>57541.26</td>\n",
       "      <td>57735.00</td>\n",
       "      <td>55837.00</td>\n",
       "      <td>56750.11</td>\n",
       "    </tr>\n",
       "  </tbody>\n",
       "</table>\n",
       "<p>116 rows × 5 columns</p>\n",
       "</div>"
      ],
      "text/plain": [
       "                      time      open      high       low     close\n",
       "1445  2021-08-01T00:00:00Z  41461.84  42599.00  39422.01  39845.44\n",
       "1446  2021-08-02T00:00:00Z  39850.27  40480.01  38690.00  39147.82\n",
       "1447  2021-08-03T00:00:00Z  39146.86  39780.00  37642.03  38207.05\n",
       "1448  2021-08-04T00:00:00Z  38207.04  39969.66  37508.56  39723.18\n",
       "1449  2021-08-05T00:00:00Z  39723.17  41350.00  37332.70  40862.46\n",
       "...                    ...       ...       ...       ...       ...\n",
       "1556  2021-11-20T00:00:00Z  58057.10  59845.00  57353.00  59707.51\n",
       "1557  2021-11-21T00:00:00Z  59707.52  60029.76  58486.65  58622.02\n",
       "1558  2021-11-22T00:00:00Z  58617.70  59444.00  55610.00  56247.18\n",
       "1559  2021-11-23T00:00:00Z  56243.83  58009.99  55317.00  57541.27\n",
       "1560  2021-11-24T00:00:00Z  57541.26  57735.00  55837.00  56750.11\n",
       "\n",
       "[116 rows x 5 columns]"
      ]
     },
     "execution_count": 297,
     "metadata": {},
     "output_type": "execute_result"
    }
   ],
   "source": [
    "data_test = data[data['time']> '2021-08-01'].copy()\n",
    "data_test"
   ]
  },
  {
   "cell_type": "code",
   "execution_count": 298,
   "id": "44fe00dc",
   "metadata": {},
   "outputs": [
    {
     "data": {
      "text/html": [
       "<div>\n",
       "<style scoped>\n",
       "    .dataframe tbody tr th:only-of-type {\n",
       "        vertical-align: middle;\n",
       "    }\n",
       "\n",
       "    .dataframe tbody tr th {\n",
       "        vertical-align: top;\n",
       "    }\n",
       "\n",
       "    .dataframe thead th {\n",
       "        text-align: right;\n",
       "    }\n",
       "</style>\n",
       "<table border=\"1\" class=\"dataframe\">\n",
       "  <thead>\n",
       "    <tr style=\"text-align: right;\">\n",
       "      <th></th>\n",
       "      <th>open</th>\n",
       "      <th>high</th>\n",
       "      <th>low</th>\n",
       "      <th>close</th>\n",
       "    </tr>\n",
       "  </thead>\n",
       "  <tbody>\n",
       "    <tr>\n",
       "      <th>0</th>\n",
       "      <td>4261.48</td>\n",
       "      <td>4485.39</td>\n",
       "      <td>4200.74</td>\n",
       "      <td>4285.08</td>\n",
       "    </tr>\n",
       "    <tr>\n",
       "      <th>1</th>\n",
       "      <td>4285.08</td>\n",
       "      <td>4371.52</td>\n",
       "      <td>3938.77</td>\n",
       "      <td>4108.37</td>\n",
       "    </tr>\n",
       "    <tr>\n",
       "      <th>2</th>\n",
       "      <td>4108.37</td>\n",
       "      <td>4184.69</td>\n",
       "      <td>3850.00</td>\n",
       "      <td>4139.98</td>\n",
       "    </tr>\n",
       "    <tr>\n",
       "      <th>3</th>\n",
       "      <td>4120.98</td>\n",
       "      <td>4211.08</td>\n",
       "      <td>4032.62</td>\n",
       "      <td>4086.29</td>\n",
       "    </tr>\n",
       "    <tr>\n",
       "      <th>4</th>\n",
       "      <td>4069.13</td>\n",
       "      <td>4119.62</td>\n",
       "      <td>3911.79</td>\n",
       "      <td>4016.00</td>\n",
       "    </tr>\n",
       "  </tbody>\n",
       "</table>\n",
       "</div>"
      ],
      "text/plain": [
       "      open     high      low    close\n",
       "0  4261.48  4485.39  4200.74  4285.08\n",
       "1  4285.08  4371.52  3938.77  4108.37\n",
       "2  4108.37  4184.69  3850.00  4139.98\n",
       "3  4120.98  4211.08  4032.62  4086.29\n",
       "4  4069.13  4119.62  3911.79  4016.00"
      ]
     },
     "execution_count": 298,
     "metadata": {},
     "output_type": "execute_result"
    }
   ],
   "source": [
    " training_data = data_training.drop(['time'], axis = 1)\n",
    " training_data.head()"
   ]
  },
  {
   "cell_type": "code",
   "execution_count": 299,
   "id": "70861266",
   "metadata": {},
   "outputs": [
    {
     "data": {
      "text/plain": [
       "array([[0.01777651, 0.01963201, 0.0233728 , 0.0181509 ],\n",
       "       [0.01816732, 0.01778279, 0.01894786, 0.01522456],\n",
       "       [0.01524103, 0.01474873, 0.01744844, 0.01574803],\n",
       "       ...,\n",
       "       [0.60992532, 0.60677195, 0.61454656, 0.60986772],\n",
       "       [0.60990743, 0.63400122, 0.5995681 , 0.6461326 ],\n",
       "       [0.64613824, 0.63613333, 0.64495296, 0.63380291]])"
      ]
     },
     "execution_count": 299,
     "metadata": {},
     "output_type": "execute_result"
    }
   ],
   "source": [
    "scaler = MinMaxScaler()\n",
    "training_data = scaler.fit_transform(training_data)\n",
    "training_data"
   ]
  },
  {
   "cell_type": "code",
   "execution_count": 300,
   "id": "8d826ef2",
   "metadata": {},
   "outputs": [
    {
     "data": {
      "text/plain": [
       "1445"
      ]
     },
     "execution_count": 300,
     "metadata": {},
     "output_type": "execute_result"
    }
   ],
   "source": [
    "len(training_data)"
   ]
  },
  {
   "cell_type": "code",
   "execution_count": 301,
   "id": "e1a69ace",
   "metadata": {},
   "outputs": [],
   "source": [
    "X_train = [] \n",
    "Y_train = []\n",
    "for i in range(60, training_data.shape[0]):\n",
    "    \n",
    "    X_train.append(training_data[i-60:i])\n",
    "    Y_train.append(training_data[i,0])\n",
    "X_train, Y_train = np.array(X_train), np.array(Y_train)\n",
    "\n",
    "    "
   ]
  },
  {
   "cell_type": "code",
   "execution_count": 302,
   "id": "ef5bca91",
   "metadata": {},
   "outputs": [
    {
     "data": {
      "text/plain": [
       "array([0.04176379, 0.04080078, 0.0467576 , 0.04257611])"
      ]
     },
     "execution_count": 302,
     "metadata": {},
     "output_type": "execute_result"
    }
   ],
   "source": [
    "training_data[60]"
   ]
  },
  {
   "cell_type": "code",
   "execution_count": 303,
   "id": "362a070c",
   "metadata": {},
   "outputs": [
    {
     "data": {
      "text/plain": [
       "(1385,)"
      ]
     },
     "execution_count": 303,
     "metadata": {},
     "output_type": "execute_result"
    }
   ],
   "source": [
    "Y_train.shape"
   ]
  },
  {
   "cell_type": "code",
   "execution_count": 304,
   "id": "785a2c8c",
   "metadata": {},
   "outputs": [],
   "source": [
    "from tensorflow.keras import Sequential\n",
    "from tensorflow.keras.layers import Dense, LSTM, Dropout"
   ]
  },
  {
   "cell_type": "code",
   "execution_count": 305,
   "id": "d1c1b790",
   "metadata": {},
   "outputs": [
    {
     "name": "stdout",
     "output_type": "stream",
     "text": [
      "Model: \"sequential_7\"\n",
      "_________________________________________________________________\n",
      " Layer (type)                Output Shape              Param #   \n",
      "=================================================================\n",
      " lstm_28 (LSTM)              (None, 60, 50)            11000     \n",
      "                                                                 \n",
      " dropout_28 (Dropout)        (None, 60, 50)            0         \n",
      "                                                                 \n",
      " lstm_29 (LSTM)              (None, 60, 60)            26640     \n",
      "                                                                 \n",
      " dropout_29 (Dropout)        (None, 60, 60)            0         \n",
      "                                                                 \n",
      " lstm_30 (LSTM)              (None, 60, 80)            45120     \n",
      "                                                                 \n",
      " dropout_30 (Dropout)        (None, 60, 80)            0         \n",
      "                                                                 \n",
      " lstm_31 (LSTM)              (None, 120)               96480     \n",
      "                                                                 \n",
      " dropout_31 (Dropout)        (None, 120)               0         \n",
      "                                                                 \n",
      " dense_7 (Dense)             (None, 1)                 121       \n",
      "                                                                 \n",
      "=================================================================\n",
      "Total params: 179,361\n",
      "Trainable params: 179,361\n",
      "Non-trainable params: 0\n",
      "_________________________________________________________________\n"
     ]
    }
   ],
   "source": [
    "model = Sequential()\n",
    "model.add(LSTM(units = 50, activation = 'relu', return_sequences = True, input_shape = (X_train.shape[1], 4)))\n",
    "model.add(Dropout(0.2))\n",
    "model.add(LSTM(units = 60, activation = 'relu', return_sequences = True))\n",
    "model.add(Dropout(0.3))\n",
    "model.add(LSTM(units = 80, activation = 'relu', return_sequences = True))\n",
    "model.add(Dropout(0.4))\n",
    "model.add(LSTM(units = 120, activation = 'relu'))\n",
    "model.add(Dropout(0.5))\n",
    "model.add(Dense(units =1))\n",
    "model.summary()\n"
   ]
  },
  {
   "cell_type": "code",
   "execution_count": 306,
   "id": "fd9323e5",
   "metadata": {},
   "outputs": [
    {
     "name": "stdout",
     "output_type": "stream",
     "text": [
      "Epoch 1/50\n",
      "25/25 [==============================] - 11s 269ms/step - loss: 0.0160 - val_loss: 0.0291\n",
      "Epoch 2/50\n",
      "25/25 [==============================] - 6s 245ms/step - loss: 0.0054 - val_loss: 0.0225\n",
      "Epoch 3/50\n",
      "25/25 [==============================] - 8s 324ms/step - loss: 0.0032 - val_loss: 0.0496\n",
      "Epoch 4/50\n",
      "25/25 [==============================] - 8s 324ms/step - loss: 0.0030 - val_loss: 0.0504\n",
      "Epoch 5/50\n",
      "25/25 [==============================] - 7s 285ms/step - loss: 0.0029 - val_loss: 0.0259\n",
      "Epoch 6/50\n",
      "25/25 [==============================] - 8s 324ms/step - loss: 0.0023 - val_loss: 0.0124\n",
      "Epoch 7/50\n",
      "25/25 [==============================] - 7s 281ms/step - loss: 0.0026 - val_loss: 0.0086\n",
      "Epoch 8/50\n",
      "25/25 [==============================] - 7s 300ms/step - loss: 0.0020 - val_loss: 0.0141\n",
      "Epoch 9/50\n",
      "25/25 [==============================] - 6s 217ms/step - loss: 0.0024 - val_loss: 0.0084\n",
      "Epoch 10/50\n",
      "25/25 [==============================] - 7s 295ms/step - loss: 0.0026 - val_loss: 0.0125\n",
      "Epoch 11/50\n",
      "25/25 [==============================] - 8s 317ms/step - loss: 0.0025 - val_loss: 0.0183\n",
      "Epoch 12/50\n",
      "25/25 [==============================] - 7s 269ms/step - loss: 0.0024 - val_loss: 0.0079\n",
      "Epoch 13/50\n",
      "25/25 [==============================] - 6s 255ms/step - loss: 0.0019 - val_loss: 0.0232\n",
      "Epoch 14/50\n",
      "25/25 [==============================] - 7s 274ms/step - loss: 0.0016 - val_loss: 0.0095\n",
      "Epoch 15/50\n",
      "25/25 [==============================] - 5s 217ms/step - loss: 0.0018 - val_loss: 0.0164\n",
      "Epoch 16/50\n",
      "25/25 [==============================] - 7s 297ms/step - loss: 0.0018 - val_loss: 0.0074\n",
      "Epoch 17/50\n",
      "25/25 [==============================] - 7s 279ms/step - loss: 0.0018 - val_loss: 0.0096\n",
      "Epoch 18/50\n",
      "25/25 [==============================] - 8s 325ms/step - loss: 0.0016 - val_loss: 0.0124\n",
      "Epoch 19/50\n",
      "25/25 [==============================] - 7s 278ms/step - loss: 0.0022 - val_loss: 0.0080\n",
      "Epoch 20/50\n",
      "25/25 [==============================] - 8s 323ms/step - loss: 0.0021 - val_loss: 0.0107\n",
      "Epoch 21/50\n",
      "25/25 [==============================] - 7s 264ms/step - loss: 0.0019 - val_loss: 0.0195\n",
      "Epoch 22/50\n",
      "25/25 [==============================] - 7s 299ms/step - loss: 0.0018 - val_loss: 0.0072\n",
      "Epoch 23/50\n",
      "25/25 [==============================] - 5s 190ms/step - loss: 0.0018 - val_loss: 0.0105\n",
      "Epoch 24/50\n",
      "25/25 [==============================] - 5s 210ms/step - loss: 0.0015 - val_loss: 0.0068\n",
      "Epoch 25/50\n",
      "25/25 [==============================] - 6s 233ms/step - loss: 0.0015 - val_loss: 0.0126\n",
      "Epoch 26/50\n",
      "25/25 [==============================] - 6s 256ms/step - loss: 0.0016 - val_loss: 0.0066\n",
      "Epoch 27/50\n",
      "25/25 [==============================] - 6s 220ms/step - loss: 0.0017 - val_loss: 0.0069\n",
      "Epoch 28/50\n",
      "25/25 [==============================] - 6s 256ms/step - loss: 0.0018 - val_loss: 0.0504\n",
      "Epoch 29/50\n",
      "25/25 [==============================] - 7s 297ms/step - loss: 0.0015 - val_loss: 0.0083\n",
      "Epoch 30/50\n",
      "25/25 [==============================] - 8s 333ms/step - loss: 0.0013 - val_loss: 0.0158\n",
      "Epoch 31/50\n",
      "25/25 [==============================] - 8s 331ms/step - loss: 0.0014 - val_loss: 0.0092\n",
      "Epoch 32/50\n",
      "25/25 [==============================] - 8s 338ms/step - loss: 0.0016 - val_loss: 0.0081\n",
      "Epoch 33/50\n",
      "25/25 [==============================] - 8s 335ms/step - loss: 0.0015 - val_loss: 0.0096\n",
      "Epoch 34/50\n",
      "25/25 [==============================] - 8s 334ms/step - loss: 0.0011 - val_loss: 0.0194\n",
      "Epoch 35/50\n",
      "25/25 [==============================] - 8s 336ms/step - loss: 0.0013 - val_loss: 0.0205\n",
      "Epoch 36/50\n",
      "25/25 [==============================] - 8s 335ms/step - loss: 0.0013 - val_loss: 0.0114\n",
      "Epoch 37/50\n",
      "25/25 [==============================] - 8s 332ms/step - loss: 0.0012 - val_loss: 0.0085\n",
      "Epoch 38/50\n",
      "25/25 [==============================] - 8s 336ms/step - loss: 0.0013 - val_loss: 0.0218\n",
      "Epoch 39/50\n",
      "25/25 [==============================] - 8s 334ms/step - loss: 0.0012 - val_loss: 0.0346\n",
      "Epoch 40/50\n",
      "25/25 [==============================] - 8s 328ms/step - loss: 0.0012 - val_loss: 0.0128\n",
      "Epoch 41/50\n",
      "25/25 [==============================] - 8s 335ms/step - loss: 0.0013 - val_loss: 0.0103\n",
      "Epoch 42/50\n",
      "25/25 [==============================] - 8s 335ms/step - loss: 0.0012 - val_loss: 0.0602\n",
      "Epoch 43/50\n",
      "25/25 [==============================] - 8s 335ms/step - loss: 0.0014 - val_loss: 0.0097\n",
      "Epoch 44/50\n",
      "25/25 [==============================] - 8s 336ms/step - loss: 0.0012 - val_loss: 0.0051\n",
      "Epoch 45/50\n",
      "25/25 [==============================] - 8s 334ms/step - loss: 0.0012 - val_loss: 0.0051\n",
      "Epoch 46/50\n",
      "25/25 [==============================] - 8s 334ms/step - loss: 0.0010 - val_loss: 0.0091\n",
      "Epoch 47/50\n",
      "25/25 [==============================] - 8s 335ms/step - loss: 0.0012 - val_loss: 0.0070\n",
      "Epoch 48/50\n",
      "25/25 [==============================] - 8s 334ms/step - loss: 9.8181e-04 - val_loss: 0.0114\n",
      "Epoch 49/50\n",
      "25/25 [==============================] - 8s 334ms/step - loss: 0.0010 - val_loss: 0.0080\n",
      "Epoch 50/50\n",
      "25/25 [==============================] - 8s 335ms/step - loss: 0.0013 - val_loss: 0.0084\n"
     ]
    }
   ],
   "source": [
    "model.compile(optimizer = 'adam', loss = 'mean_squared_error')\n",
    "history= model.fit(X_train, Y_train, epochs = 50, batch_size =50, validation_split=0.1)\n"
   ]
  },
  {
   "cell_type": "code",
   "execution_count": 307,
   "id": "1ab9f5d4",
   "metadata": {},
   "outputs": [
    {
     "data": {
      "image/png": "[encoded data removed]",
      "text/plain": [
       "<Figure size 432x288 with 1 Axes>"
      ]
     },
     "metadata": {
      "needs_background": "light"
     },
     "output_type": "display_data"
    }
   ],
   "source": [
    "loss = history.history['loss']\n",
    "val_loss = history.history['val_loss']\n",
    "epochs = range(len(loss))\n",
    "plt.figure()\n",
    "plt.plot(epochs, loss, 'b', label='Training loss')\n",
    "plt.plot(epochs, val_loss, 'r', label='Validation loss')\n",
    "plt.title(\"Training and Validation Loss\")\n",
    "plt.legend()\n",
    "plt.show()"
   ]
  },
  {
   "cell_type": "code",
   "execution_count": 308,
   "id": "668fffc2",
   "metadata": {},
   "outputs": [
    {
     "data": {
      "text/html": [
       "<div>\n",
       "<style scoped>\n",
       "    .dataframe tbody tr th:only-of-type {\n",
       "        vertical-align: middle;\n",
       "    }\n",
       "\n",
       "    .dataframe tbody tr th {\n",
       "        vertical-align: top;\n",
       "    }\n",
       "\n",
       "    .dataframe thead th {\n",
       "        text-align: right;\n",
       "    }\n",
       "</style>\n",
       "<table border=\"1\" class=\"dataframe\">\n",
       "  <thead>\n",
       "    <tr style=\"text-align: right;\">\n",
       "      <th></th>\n",
       "      <th>open</th>\n",
       "      <th>high</th>\n",
       "      <th>low</th>\n",
       "      <th>close</th>\n",
       "    </tr>\n",
       "  </thead>\n",
       "  <tbody>\n",
       "    <tr>\n",
       "      <th>0</th>\n",
       "      <td>36694.85</td>\n",
       "      <td>38225.00</td>\n",
       "      <td>35920.00</td>\n",
       "      <td>37568.68</td>\n",
       "    </tr>\n",
       "    <tr>\n",
       "      <th>1</th>\n",
       "      <td>37568.68</td>\n",
       "      <td>39476.00</td>\n",
       "      <td>37170.00</td>\n",
       "      <td>39246.79</td>\n",
       "    </tr>\n",
       "    <tr>\n",
       "      <th>2</th>\n",
       "      <td>39246.78</td>\n",
       "      <td>39289.07</td>\n",
       "      <td>35555.15</td>\n",
       "      <td>36829.00</td>\n",
       "    </tr>\n",
       "    <tr>\n",
       "      <th>3</th>\n",
       "      <td>36829.15</td>\n",
       "      <td>37925.00</td>\n",
       "      <td>34800.00</td>\n",
       "      <td>35513.20</td>\n",
       "    </tr>\n",
       "    <tr>\n",
       "      <th>4</th>\n",
       "      <td>35516.07</td>\n",
       "      <td>36480.00</td>\n",
       "      <td>35222.00</td>\n",
       "      <td>35796.31</td>\n",
       "    </tr>\n",
       "  </tbody>\n",
       "</table>\n",
       "</div>"
      ],
      "text/plain": [
       "       open      high       low     close\n",
       "0  36694.85  38225.00  35920.00  37568.68\n",
       "1  37568.68  39476.00  37170.00  39246.79\n",
       "2  39246.78  39289.07  35555.15  36829.00\n",
       "3  36829.15  37925.00  34800.00  35513.20\n",
       "4  35516.07  36480.00  35222.00  35796.31"
      ]
     },
     "execution_count": 308,
     "metadata": {},
     "output_type": "execute_result"
    }
   ],
   "source": [
    "part_60_days = data_training.tail(60)\n",
    "df= part_60_days.append(data_test, ignore_index = True)\n",
    "df = df.drop(['time'], axis = 1)\n",
    "df.head()"
   ]
  },
  {
   "cell_type": "code",
   "execution_count": 309,
   "id": "6383ceb0",
   "metadata": {},
   "outputs": [
    {
     "data": {
      "text/plain": [
       "176"
      ]
     },
     "execution_count": 309,
     "metadata": {},
     "output_type": "execute_result"
    }
   ],
   "source": [
    "len(df)"
   ]
  },
  {
   "cell_type": "code",
   "execution_count": 310,
   "id": "69a3c88d",
   "metadata": {},
   "outputs": [],
   "source": [
    "inputs = scaler.transform(df)"
   ]
  },
  {
   "cell_type": "code",
   "execution_count": 311,
   "id": "bab74d35",
   "metadata": {},
   "outputs": [],
   "source": [
    "X_test = []\n",
    "Y_test = []\n",
    "for i in range (60, inputs.shape[0]):\n",
    "        X_test.append(inputs[i-60:i])\n",
    "        Y_test.append(inputs[i, 0])\n",
    "X_test, Y_test = np.array(X_test), np.array(Y_test)\n",
    "\n"
   ]
  },
  {
   "cell_type": "code",
   "execution_count": 312,
   "id": "697592f1",
   "metadata": {},
   "outputs": [],
   "source": [
    "Y_pred = model.predict(X_test)"
   ]
  },
  {
   "cell_type": "code",
   "execution_count": 313,
   "id": "d5a17d23",
   "metadata": {},
   "outputs": [
    {
     "data": {
      "text/plain": [
       "array([0.04176379, 0.04259178, 0.03985941, ..., 0.60992532, 0.60990743,\n",
       "       0.64613824])"
      ]
     },
     "execution_count": 313,
     "metadata": {},
     "output_type": "execute_result"
    }
   ],
   "source": [
    "Y_train"
   ]
  },
  {
   "cell_type": "code",
   "execution_count": 314,
   "id": "a70da23b",
   "metadata": {},
   "outputs": [
    {
     "data": {
      "text/plain": [
       "array([1.65598556e-05, 1.62396979e-05, 1.68910359e-05, 1.65601353e-05])"
      ]
     },
     "execution_count": 314,
     "metadata": {},
     "output_type": "execute_result"
    }
   ],
   "source": [
    "scaler.scale_"
   ]
  },
  {
   "cell_type": "code",
   "execution_count": 315,
   "id": "ced0a33c",
   "metadata": {},
   "outputs": [],
   "source": [
    "scale = 1/scaler.scale_[0]"
   ]
  },
  {
   "cell_type": "code",
   "execution_count": 316,
   "id": "9c7157b3",
   "metadata": {},
   "outputs": [],
   "source": [
    "Y_test = Y_test*scale \n",
    "Y_pred = Y_pred*scale"
   ]
  },
  {
   "cell_type": "code",
   "execution_count": 317,
   "id": "793d9bec",
   "metadata": {},
   "outputs": [
    {
     "data": {
      "text/plain": [
       "array([[37310.21 ],\n",
       "       [38360.742],\n",
       "       [39124.355],\n",
       "       [39499.07 ],\n",
       "       [39497.145],\n",
       "       [39218.72 ],\n",
       "       [38838.934],\n",
       "       [38541.008],\n",
       "       [38430.656],\n",
       "       [38553.99 ],\n",
       "       [38905.76 ],\n",
       "       [39437.57 ],\n",
       "       [40046.09 ],\n",
       "       [40687.156],\n",
       "       [41328.258],\n",
       "       [41923.258],\n",
       "       [42430.375],\n",
       "       [42794.746],\n",
       "       [42979.383],\n",
       "       [43020.785],\n",
       "       [43039.844],\n",
       "       [43130.96 ],\n",
       "       [43339.32 ],\n",
       "       [43682.258],\n",
       "       [44106.676],\n",
       "       [44551.965],\n",
       "       [44943.727],\n",
       "       [45256.934],\n",
       "       [45503.605],\n",
       "       [45698.496],\n",
       "       [45825.668],\n",
       "       [45874.48 ],\n",
       "       [45876.973],\n",
       "       [45899.02 ],\n",
       "       [45995.723],\n",
       "       [46190.88 ],\n",
       "       [46505.715],\n",
       "       [46953.03 ],\n",
       "       [47396.855],\n",
       "       [47672.8  ],\n",
       "       [47714.082],\n",
       "       [47503.2  ],\n",
       "       [47086.477],\n",
       "       [46554.484],\n",
       "       [45988.4  ],\n",
       "       [45491.434],\n",
       "       [45172.1  ],\n",
       "       [45095.24 ],\n",
       "       [45264.285],\n",
       "       [45649.918],\n",
       "       [46174.234],\n",
       "       [46674.89 ],\n",
       "       [46953.883],\n",
       "       [46959.05 ],\n",
       "       [46754.316],\n",
       "       [46397.035],\n",
       "       [45940.99 ],\n",
       "       [45446.832],\n",
       "       [44971.055],\n",
       "       [44531.047],\n",
       "       [44140.414],\n",
       "       [43847.13 ],\n",
       "       [43770.234],\n",
       "       [43981.39 ],\n",
       "       [44481.008],\n",
       "       [45212.977],\n",
       "       [46124.258],\n",
       "       [47195.53 ],\n",
       "       [48357.062],\n",
       "       [49497.566],\n",
       "       [50494.6  ],\n",
       "       [51256.113],\n",
       "       [51773.94 ],\n",
       "       [52024.62 ],\n",
       "       [52036.35 ],\n",
       "       [51877.67 ],\n",
       "       [51710.78 ],\n",
       "       [51624.63 ],\n",
       "       [51648.395],\n",
       "       [51784.98 ],\n",
       "       [52065.617],\n",
       "       [52536.53 ],\n",
       "       [53119.188],\n",
       "       [53650.723],\n",
       "       [54017.383],\n",
       "       [54176.582],\n",
       "       [54205.   ],\n",
       "       [54160.12 ],\n",
       "       [54072.   ],\n",
       "       [54003.305],\n",
       "       [54043.14 ],\n",
       "       [54256.473],\n",
       "       [54658.305],\n",
       "       [55223.344],\n",
       "       [55956.895],\n",
       "       [56807.402],\n",
       "       [57676.586],\n",
       "       [58464.516],\n",
       "       [59089.914],\n",
       "       [59560.047],\n",
       "       [59992.477],\n",
       "       [60464.242],\n",
       "       [60934.71 ],\n",
       "       [61316.277],\n",
       "       [61518.973],\n",
       "       [61516.49 ],\n",
       "       [61346.11 ],\n",
       "       [61053.145],\n",
       "       [60626.254],\n",
       "       [60088.656],\n",
       "       [59459.234],\n",
       "       [58776.773],\n",
       "       [58122.55 ],\n",
       "       [57571.75 ],\n",
       "       [57152.523],\n",
       "       [56881.08 ]], dtype=float32)"
      ]
     },
     "execution_count": 317,
     "metadata": {},
     "output_type": "execute_result"
    }
   ],
   "source": [
    "Y_pred"
   ]
  },
  {
   "cell_type": "code",
   "execution_count": 318,
   "id": "105e2028",
   "metadata": {},
   "outputs": [
    {
     "data": {
      "image/png": "[encoded data removed]",
      "text/plain": [
       "<Figure size 1008x360 with 1 Axes>"
      ]
     },
     "metadata": {
      "needs_background": "light"
     },
     "output_type": "display_data"
    }
   ],
   "source": [
    "plt.figure(figsize=(14,5))\n",
    "plt.plot(Y_test, color = 'red', label = 'Real Bitcoin Price')\n",
    "plt.plot(Y_pred, color = 'green', label = 'Predicted Bitcoin Price')\n",
    "plt.title('Bitcoin Price Prediction using RNN-LSTM')\n",
    "plt.xlabel('Time')\n",
    "plt.ylabel('Price')\n",
    "plt.legend()\n",
    "plt.show()"
   ]
  },
  {
   "cell_type": "code",
   "execution_count": 319,
   "id": "ee65e0f6",
   "metadata": {},
   "outputs": [],
   "source": [
    "from sklearn.metrics import mean_absolute_error,mean_squared_error,mean_absolute_percentage_error"
   ]
  },
  {
   "cell_type": "code",
   "execution_count": 320,
   "id": "a41273bf",
   "metadata": {},
   "outputs": [
    {
     "data": {
      "text/plain": [
       "0.06035066584836966"
      ]
     },
     "execution_count": 320,
     "metadata": {},
     "output_type": "execute_result"
    }
   ],
   "source": [
    "mean_absolute_percentage_error(Y_pred,Y_test)"
   ]
  },
  {
   "cell_type": "code",
   "execution_count": null,
   "id": "a7307396",
   "metadata": {},
   "outputs": [],
   "source": []
  }
 ],
 "metadata": {
  "kernelspec": {
   "display_name": "Python 3",
   "language": "python",
   "name": "python3"
  },
  "language_info": {
   "codemirror_mode": {
    "name": "ipython",
    "version": 3
   },
   "file_extension": ".py",
   "mimetype": "text/x-python",
   "name": "python",
   "nbconvert_exporter": "python",
   "pygments_lexer": "ipython3",
   "version": "3.8.8"
  }
 },
 "nbformat": 4,
 "nbformat_minor": 5
}
